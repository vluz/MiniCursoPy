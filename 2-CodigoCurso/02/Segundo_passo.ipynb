{
 "cells": [
  {
   "cell_type": "markdown",
   "id": "d1f92702-9eb4-4512-b743-b0c90bcfbace",
   "metadata": {},
   "source": [
    "# Segundo passo 🏃"
   ]
  },
  {
   "cell_type": "markdown",
   "id": "1c2cacf7-6f68-42c3-a82e-0f7d242df315",
   "metadata": {},
   "source": [
    "## Listas\n",
    "As listas são contentores para guardar valores."
   ]
  },
  {
   "cell_type": "code",
   "execution_count": null,
   "id": "9cf1c716-12a1-4537-ac8d-174a5f441d70",
   "metadata": {},
   "outputs": [],
   "source": [
    "frutas = ['laranja','cereja','uva','limão']\n",
    "print(frutas)"
   ]
  },
  {
   "cell_type": "code",
   "execution_count": null,
   "id": "cce599d9-87d5-4819-8b7b-f89b8340192c",
   "metadata": {},
   "outputs": [],
   "source": [
    "print(frutas[2])"
   ]
  },
  {
   "cell_type": "code",
   "execution_count": null,
   "id": "f6a2ab10-dbdc-48c2-9c3a-62034b99c9b2",
   "metadata": {},
   "outputs": [],
   "source": [
    "print(len(frutas))"
   ]
  },
  {
   "cell_type": "code",
   "execution_count": null,
   "id": "1fb645c3-fed3-409e-9582-5119cddcd754",
   "metadata": {},
   "outputs": [],
   "source": [
    "frutas.append('maçã')\n",
    "print(frutas)"
   ]
  },
  {
   "cell_type": "code",
   "execution_count": null,
   "id": "a6c6e31b-192f-4566-8c9b-ee5003aa67c8",
   "metadata": {},
   "outputs": [],
   "source": [
    "print('uva' in frutas)"
   ]
  },
  {
   "cell_type": "code",
   "execution_count": null,
   "id": "26c7a09d-4908-45c1-b0fa-9595e88eb76e",
   "metadata": {},
   "outputs": [],
   "source": [
    "print('tomate' in frutas)"
   ]
  },
  {
   "cell_type": "code",
   "execution_count": null,
   "id": "3eb9ce26-4ba2-4543-95f5-e0572c4cedd1",
   "metadata": {},
   "outputs": [],
   "source": [
    "frutas.pop()\n",
    "print(frutas)"
   ]
  },
  {
   "cell_type": "markdown",
   "id": "5cb4949e-347f-4cdc-ac15-8d78118aa42d",
   "metadata": {},
   "source": [
    "## Dicionários\n",
    "Um dicionário optimiza a pesquisa de elementos.     \n",
    "Utiliza pares chave/valor, em vez de números como marcadores de posição.      \n",
    "Cada chave tem de ter um valor e é possível utilizar uma chave para procurar um valor.     "
   ]
  },
  {
   "cell_type": "code",
   "execution_count": null,
   "id": "e7b6ff1e-42bd-4fc9-9f9b-9fa078aca8c9",
   "metadata": {},
   "outputs": [],
   "source": [
    "cores = {'maçã':'vermelha', 'limão':'amarelo'}\n",
    "print(cores['limão'])"
   ]
  },
  {
   "cell_type": "code",
   "execution_count": null,
   "id": "8b4684b0-75b8-4f3f-a830-eda0b3f7b150",
   "metadata": {},
   "outputs": [],
   "source": [
    "print(cores.keys())\n",
    "print(cores.values())"
   ]
  },
  {
   "cell_type": "markdown",
   "id": "2b4e32fb-9d06-4adc-99ac-2bcf90b22118",
   "metadata": {},
   "source": [
    "## Condições"
   ]
  },
  {
   "cell_type": "markdown",
   "id": "b0fe749f-ac95-46de-a150-1e01dc1ed54e",
   "metadata": {},
   "source": [
    "A instrução `if` é utilizada para verificar se uma condição é verdadeira.     \n",
    "Essencialmente, se a condição for verdadeira, o interpretador Python executa um bloco de instruções chamado bloco `if`.     \n",
    "Se a declaração for falsa, o interpretador salta o bloco if e processa outro bloco de declarações chamado bloco `else`.      \n",
    "A cláusula `else` é opcional."
   ]
  },
  {
   "cell_type": "code",
   "execution_count": null,
   "id": "027cf8b9-b531-4310-8f2d-c4796b10c39e",
   "metadata": {},
   "outputs": [],
   "source": [
    "num = 20\n",
    "if num == 20:\n",
    "    print('O número é 20')\n",
    "else:\n",
    "    print('O número não é 20')"
   ]
  },
  {
   "cell_type": "code",
   "execution_count": null,
   "id": "7b82507e-75a0-4581-9352-70f2956f6342",
   "metadata": {},
   "outputs": [],
   "source": [
    "num = 21\n",
    "if num == 20:\n",
    "    print('O número é 20')\n",
    "elif num > 20:\n",
    "    print('O número é maior do que 20')\n",
    "else:\n",
    "    print('O número é menor do que 20')"
   ]
  },
  {
   "cell_type": "markdown",
   "id": "bbd98bfc-0fba-45f0-ad5f-83c56602b93a",
   "metadata": {},
   "source": [
    "## Ciclos\n",
    "Existem 2 tipos de ciclos usados em Python - o ciclo `for` e o ciclo `while`.     \n",
    "Os ciclos são tradicionalmente usados quando tens um pedaço de código que queres repetir um certo número de vezes."
   ]
  },
  {
   "cell_type": "code",
   "execution_count": null,
   "id": "77811eb0-3198-4b1d-9f1f-84443198a589",
   "metadata": {},
   "outputs": [],
   "source": [
    "cores = ['vermelho', 'verde', 'azul']\n",
    "for cor in cores:\n",
    "    print('Eu gosto de ' + cor)"
   ]
  },
  {
   "cell_type": "code",
   "execution_count": null,
   "id": "fdbe9585-4ce5-4ee0-8a7d-9f0d55faf198",
   "metadata": {},
   "outputs": [],
   "source": [
    "contador = 1\n",
    "while contador <= 5:\n",
    "    print(contador)\n",
    "    contador += 1"
   ]
  },
  {
   "cell_type": "markdown",
   "id": "73522e03-c8d1-4d99-8d64-4746a709853d",
   "metadata": {},
   "source": [
    "## Funções\n",
    "As funções são blocos de código reutilizável que executam uma única tarefa.\n",
    "Utiliza-se `def` para definir ou criar uma nova função e, em seguida, chama-se uma função adicionando parâmetros ao nome da função."
   ]
  },
  {
   "cell_type": "code",
   "execution_count": null,
   "id": "d8926be8-c37d-4880-a828-77fa8af04378",
   "metadata": {},
   "outputs": [],
   "source": [
    "def compara_vinte(num):\n",
    "    if num == 20:\n",
    "        resposta = 'O número é 20'\n",
    "    elif num > 20:\n",
    "        resposta = 'O número {0} é maior do que 20'.format(num)\n",
    "    else:\n",
    "        resposta = 'O número {0} é menor do que 20'.format(num)\n",
    "    return resposta\n",
    "\n",
    "\n",
    "print(compara_vinte(10))\n",
    "print(compara_vinte(20))\n",
    "print(compara_vinte(34))"
   ]
  },
  {
   "cell_type": "markdown",
   "id": "f15a5be2-0130-40bc-9092-13b853d4af57",
   "metadata": {},
   "source": [
    "# Fim do segundo passo"
   ]
  }
 ],
 "metadata": {
  "kernelspec": {
   "display_name": "Python 3 (ipykernel)",
   "language": "python",
   "name": "python3"
  },
  "language_info": {
   "codemirror_mode": {
    "name": "ipython",
    "version": 3
   },
   "file_extension": ".py",
   "mimetype": "text/x-python",
   "name": "python",
   "nbconvert_exporter": "python",
   "pygments_lexer": "ipython3",
   "version": "3.10.11"
  }
 },
 "nbformat": 4,
 "nbformat_minor": 5
}
