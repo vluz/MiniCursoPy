{
 "cells": [
  {
   "cell_type": "markdown",
   "id": "f30a55d2-7ad9-4e05-92df-520cf3cfe2dd",
   "metadata": {},
   "source": [
    "# Primeiro Passo 🚶"
   ]
  },
  {
   "cell_type": "markdown",
   "id": "f1a02aed-a852-4f30-97ab-c0e1c57ce30b",
   "metadata": {},
   "source": [
    "## Python tem números inteiros e flutuantes. \n",
    "\n",
    "Os inteiros são simplesmente números inteiros, como 314, 500 e 716.\n",
    "Os flutuantes, por sua vez, são números fraccionários como 3.14, 2.867, 76.88887.\n",
    "\n",
    "Pode usar o método `type` para verificar o valor de um objeto."
   ]
  },
  {
   "cell_type": "code",
   "execution_count": null,
   "id": "4b37f026-b0eb-4d27-87af-5ca1f2589f6a",
   "metadata": {},
   "outputs": [],
   "source": [
    "type(3)"
   ]
  },
  {
   "cell_type": "code",
   "execution_count": null,
   "id": "589c71f7-3e14-4680-a3df-d9c267183c4b",
   "metadata": {},
   "outputs": [],
   "source": [
    "type(3.14)"
   ]
  },
  {
   "cell_type": "code",
   "execution_count": null,
   "id": "70f831b2-1063-425d-8c9a-b259573ad279",
   "metadata": {},
   "outputs": [],
   "source": [
    "pi = 3.141592653589\n",
    "type(pi)"
   ]
  },
  {
   "cell_type": "markdown",
   "id": "0f2cea74-38aa-481a-a6a2-46a38ebc54be",
   "metadata": {},
   "source": [
    "### Pode utilizar os operadores matemáticos básicos:"
   ]
  },
  {
   "cell_type": "code",
   "execution_count": null,
   "id": "369434ec-681c-4bbe-9fd0-dad45bc115d6",
   "metadata": {},
   "outputs": [],
   "source": [
    "3 + 3"
   ]
  },
  {
   "cell_type": "code",
   "execution_count": null,
   "id": "9bf81494-4266-4bb7-a4a8-305be21c57d8",
   "metadata": {},
   "outputs": [],
   "source": [
    "3 - 3"
   ]
  },
  {
   "cell_type": "code",
   "execution_count": null,
   "id": "31a5e2d3-74e7-4e2e-86c4-2a0566e143a0",
   "metadata": {},
   "outputs": [],
   "source": [
    "3 / 3"
   ]
  },
  {
   "cell_type": "code",
   "execution_count": null,
   "id": "43ac13e7-ac3b-4428-b505-7a118daf1401",
   "metadata": {},
   "outputs": [],
   "source": [
    "3 / 2"
   ]
  },
  {
   "cell_type": "code",
   "execution_count": null,
   "id": "7c5fa502-f099-49f7-a4fd-7f1adc378db4",
   "metadata": {},
   "outputs": [],
   "source": [
    "3 * 3"
   ]
  },
  {
   "cell_type": "code",
   "execution_count": null,
   "id": "c6f7b08c-8434-4748-b0c2-d069a62d99a9",
   "metadata": {},
   "outputs": [],
   "source": [
    " 3 ** 3"
   ]
  },
  {
   "cell_type": "code",
   "execution_count": null,
   "id": "b8320019-c127-456c-86a7-4a2b43703c09",
   "metadata": {},
   "outputs": [],
   "source": [
    "num = 3\n",
    "num = num - 1\n",
    "print(num)"
   ]
  },
  {
   "cell_type": "code",
   "execution_count": null,
   "id": "496447d7-8874-4f55-ad90-f5081dc4acb1",
   "metadata": {},
   "outputs": [],
   "source": [
    "num = num + 10\n",
    "print(num)"
   ]
  },
  {
   "cell_type": "code",
   "execution_count": null,
   "id": "7e81d8d2-5511-4b95-8df1-e1efa0349230",
   "metadata": {},
   "outputs": [],
   "source": [
    "num += 10\n",
    "print(num)"
   ]
  },
  {
   "cell_type": "code",
   "execution_count": null,
   "id": "aff81be4-9514-4a0a-a52f-89f40f6a16e0",
   "metadata": {},
   "outputs": [],
   "source": [
    "num -= 12\n",
    "print(num)"
   ]
  },
  {
   "cell_type": "code",
   "execution_count": null,
   "id": "646a62c5-aa08-42e8-bbb0-2256b49b142e",
   "metadata": {},
   "outputs": [],
   "source": [
    "num *= 10\n",
    "print(num)"
   ]
  },
  {
   "cell_type": "markdown",
   "id": "34e083ee-b193-47d8-a6df-4dd1b027cf79",
   "metadata": {},
   "source": [
    "Existe também um operador especial chamado módulo, `%` , que devolve o resto após a divisão de números inteiros."
   ]
  },
  {
   "cell_type": "code",
   "execution_count": null,
   "id": "852425c5-fbc1-488a-9d34-ca6d8d16b199",
   "metadata": {},
   "outputs": [],
   "source": [
    "10 % 3"
   ]
  },
  {
   "cell_type": "markdown",
   "id": "aa802421-e7a7-4c80-8898-92921f0cd769",
   "metadata": {},
   "source": [
    "Uma utilização comum do módulo é determinar se um número é divisível por outro número.       \n",
    "Por exemplo, sabemos que um número é par se for dividido por 2 e o resto for 0."
   ]
  },
  {
   "cell_type": "code",
   "execution_count": null,
   "id": "c77f7baf-d9c1-4c6c-b144-806eda8a40e5",
   "metadata": {},
   "outputs": [],
   "source": [
    "10 % 2"
   ]
  },
  {
   "cell_type": "code",
   "execution_count": null,
   "id": "30a07a96-bb64-4ac1-826d-6468a29eb5a4",
   "metadata": {},
   "outputs": [],
   "source": [
    "12 % 2"
   ]
  },
  {
   "cell_type": "markdown",
   "id": "da2f9e2d-5d0e-4ddd-a4fa-179955bc4dfe",
   "metadata": {},
   "source": [
    "Certifique-se de que utiliza parênteses para impor precedência"
   ]
  },
  {
   "cell_type": "code",
   "execution_count": null,
   "id": "687bb402-0a52-4192-aa19-64c8b34a4822",
   "metadata": {},
   "outputs": [],
   "source": [
    " (2 + 3) * 5"
   ]
  },
  {
   "cell_type": "code",
   "execution_count": null,
   "id": "e11b40f2-3cb0-4458-8851-8cca3becd8ff",
   "metadata": {},
   "outputs": [],
   "source": [
    "2 + 3 * 5"
   ]
  },
  {
   "cell_type": "markdown",
   "id": "8dc08308-5831-46dc-ac06-fef32396676f",
   "metadata": {},
   "source": [
    "## Cadeias de caracteres\n",
    "\n",
    "As strings são usadas com bastante frequência em Python.      \n",
    "As cadeias de caracteres são apenas isso, uma cadeia de caracteres - qualquer coisa que possas escrever como uma letra, um número ou uma barra invertida.\n",
    "\n",
    "Python reconhece as aspas simples e duplas como a mesma coisa, o início e o fim das strings."
   ]
  },
  {
   "cell_type": "code",
   "execution_count": null,
   "id": "8c6726bf-142d-4e6c-98ab-f129d3f165cb",
   "metadata": {},
   "outputs": [],
   "source": [
    "print(\"isto é uma string\")"
   ]
  },
  {
   "cell_type": "code",
   "execution_count": null,
   "id": "83dd5fd2-17d9-4a4e-ada5-f2a244972056",
   "metadata": {},
   "outputs": [],
   "source": [
    "type(\"isto é uma string\")"
   ]
  },
  {
   "cell_type": "code",
   "execution_count": null,
   "id": "fe761d9e-c16e-4f24-a4a8-e63ce96b3b63",
   "metadata": {},
   "outputs": [],
   "source": [
    "print('Isto também é uma string')\n",
    "type('Isto também é uma string')"
   ]
  },
  {
   "cell_type": "markdown",
   "id": "db99bab7-ebeb-4c86-a8f2-41560c41011b",
   "metadata": {},
   "source": [
    "E se tiveres uma aspa no meio da string?\n",
    "Python precisa de ajuda para reconhecer as aspas como parte da linguagem e não como parte da linguagem Python"
   ]
  },
  {
   "cell_type": "code",
   "execution_count": null,
   "id": "5bb90641-667a-4ed4-8b3f-4423117c16e0",
   "metadata": {},
   "outputs": [],
   "source": [
    "print(\"I\\'m afraid I can\\'t do that Dave\")"
   ]
  },
  {
   "cell_type": "code",
   "execution_count": null,
   "id": "919a7439-2cf8-43b4-91fb-6a6620174696",
   "metadata": {},
   "outputs": [],
   "source": [
    "print(\"Ele disse \\\"não\\\" sem mais palavras\")"
   ]
  },
  {
   "cell_type": "code",
   "execution_count": null,
   "id": "b244d63c-9032-4dfb-ba46-e8f3c9d6fee6",
   "metadata": {},
   "outputs": [],
   "source": [
    "a = \"Primeiros\"\n",
    "b = \"Passos\"\n",
    "print(a+b)\n",
    "print(a+\" \"+b)\n",
    "a = \"Primeiros \"\n",
    "print(a+b)"
   ]
  },
  {
   "cell_type": "markdown",
   "id": "17c1459b-265b-41e2-8cc5-b5ea50b47e03",
   "metadata": {},
   "source": [
    "Existem também diferentes métodos de string para escolher - como `upper()`, `lower()`, `replace()` e `count()`.     \n",
    "`upper()` faz exatamente o que parece - muda sua string para todas as letras maiúsculas."
   ]
  },
  {
   "cell_type": "code",
   "execution_count": null,
   "id": "99061264-7fd3-4bcb-a549-c0547c82372e",
   "metadata": {},
   "outputs": [],
   "source": [
    "str = 'olá!'\n",
    "print(str.upper())"
   ]
  },
  {
   "cell_type": "code",
   "execution_count": null,
   "id": "45706b0c-876a-4a31-9a2c-7b368893aeeb",
   "metadata": {},
   "outputs": [],
   "source": [
    "str = \"JANTAR ÀS sete\"\n",
    "print(str.lower())"
   ]
  },
  {
   "cell_type": "code",
   "execution_count": null,
   "id": "8849e677-2242-4d5e-830c-58437e3a757e",
   "metadata": {},
   "outputs": [],
   "source": [
    "str = \"bola\"\n",
    "print(str.replace(\"b\", \"r\"))"
   ]
  },
  {
   "cell_type": "code",
   "execution_count": null,
   "id": "94781050-c48d-4753-b35a-ab6ab432ec19",
   "metadata": {},
   "outputs": [],
   "source": [
    "str = \"empreendedor\"\n",
    "print(str.count(\"e\"))"
   ]
  },
  {
   "cell_type": "code",
   "execution_count": null,
   "id": "7f7dfad8-bd3d-4d4e-ae7f-f3479991d346",
   "metadata": {},
   "outputs": [],
   "source": [
    "print(\"{0} é {1}\".format(\"Python\",\"fácil\"))"
   ]
  },
  {
   "cell_type": "markdown",
   "id": "149f27bb-eb47-4eb5-b719-6673ba5c9bbc",
   "metadata": {},
   "source": [
    "## Booleanos\n",
    "Os valores booleanos são simplesmente Verdadeiro ou Falso. (`True` ou `False`)    \n",
    "Verifica se um valor é igual a outro valor com dois sinais de igual."
   ]
  },
  {
   "cell_type": "code",
   "execution_count": null,
   "id": "5e9890d9-7248-40f8-ac93-c1191e346f47",
   "metadata": {},
   "outputs": [],
   "source": [
    "print(10 == 10)"
   ]
  },
  {
   "cell_type": "code",
   "execution_count": null,
   "id": "2e0ccef1-8955-4624-8ad3-d293e9c74e25",
   "metadata": {},
   "outputs": [],
   "source": [
    "print(10 == 11)"
   ]
  },
  {
   "cell_type": "code",
   "execution_count": null,
   "id": "2146ff16-593e-4a73-8163-26efe1b77fae",
   "metadata": {},
   "outputs": [],
   "source": [
    "print(\"ano\" == \"ano\")"
   ]
  },
  {
   "cell_type": "code",
   "execution_count": null,
   "id": "a6713f51-e26f-4f13-a29d-2a87de30e024",
   "metadata": {},
   "outputs": [],
   "source": [
    "print(\"ano\" == \"ana\")"
   ]
  },
  {
   "cell_type": "markdown",
   "id": "aa3e7376-7636-442b-bb02-38675733d42d",
   "metadata": {},
   "source": [
    "Para verificar a desigualdade, utilize `!=`"
   ]
  },
  {
   "cell_type": "code",
   "execution_count": null,
   "id": "48cc8662-9967-44ec-8593-67a688ec7b80",
   "metadata": {},
   "outputs": [],
   "source": [
    "print(10 != 10)"
   ]
  },
  {
   "cell_type": "code",
   "execution_count": null,
   "id": "7a580310-ed80-4fb5-972f-454621d28d39",
   "metadata": {},
   "outputs": [],
   "source": [
    "print(10 != 11)"
   ]
  },
  {
   "cell_type": "markdown",
   "id": "6e57c9e5-5560-4e2e-b94a-ae1469555261",
   "metadata": {},
   "source": [
    "Também é possível testar `>` , `<` , `>=` , e `<=`"
   ]
  },
  {
   "cell_type": "code",
   "execution_count": null,
   "id": "2c3a2005-03e4-4030-b331-d8848e2d9783",
   "metadata": {},
   "outputs": [],
   "source": [
    "print(10 < 10)"
   ]
  },
  {
   "cell_type": "code",
   "execution_count": null,
   "id": "840f5c4c-1819-4488-aede-5d0f1c6d1d42",
   "metadata": {},
   "outputs": [],
   "source": [
    "print(11 > 10)"
   ]
  },
  {
   "cell_type": "code",
   "execution_count": null,
   "id": "d180d2f9-dec3-46c7-babb-215212d1afe9",
   "metadata": {},
   "outputs": [],
   "source": [
    "print(10 >= 10)"
   ]
  },
  {
   "cell_type": "markdown",
   "id": "ffa6b2ce-b537-426e-8e6b-efe2b7735375",
   "metadata": {},
   "source": [
    "## Fim do primeiro passo"
   ]
  }
 ],
 "metadata": {
  "kernelspec": {
   "display_name": "Python 3 (ipykernel)",
   "language": "python",
   "name": "python3"
  },
  "language_info": {
   "codemirror_mode": {
    "name": "ipython",
    "version": 3
   },
   "file_extension": ".py",
   "mimetype": "text/x-python",
   "name": "python",
   "nbconvert_exporter": "python",
   "pygments_lexer": "ipython3",
   "version": "3.10.11"
  }
 },
 "nbformat": 4,
 "nbformat_minor": 5
}
