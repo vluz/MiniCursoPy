{
 "cells": [
  {
   "cell_type": "markdown",
   "metadata": {
    "id": "H4uK0fhEK1gn"
   },
   "source": [
    "\n",
    "\n",
    "# SD-XL diffusion via project Foooocus\n",
    "\n",
    "## https://github.com/lllyasviel/Fooocus\n",
    "\n",
    "Este ficheiro modificado e comentado pode ser encontrado em:     \n",
    "https://github.com/vluz/SDXLviaFooocus/blob/main/SD_XL_via_Fooocus_New.ipynb\n",
    "\n",
    "Esta versão é baseada no caderno de colaboração oficial publicado.\n",
    "\n",
    "---\n",
    "\n",
    "Execute a célula clicando no ícone de reprodução (⏵︎) no canto superior esquerdo da célula.\n",
    "\n",
    "Demorará algum tempo a chegar a um estado utilizável.\n"
   ]
  },
  {
   "cell_type": "code",
   "execution_count": null,
   "metadata": {
    "id": "VjYy0F2gZIPR"
   },
   "outputs": [],
   "source": [
    "!pip install pygit2==1.12.2 --quiet\n",
    "%cd /content\n",
    "!git clone --quiet https://github.com/lllyasviel/Fooocus.git\n",
    "%cd /content/Fooocus\n",
    "!python entry_with_update.py --share --always-high-vram\n"
   ]
  },
  {
   "cell_type": "markdown",
   "metadata": {
    "id": "-16IjjpkNGIR"
   },
   "source": [
    "Esperar pela linha semelhante a:      \n",
    "`App started successful. Use the app with http://127.0.0.1:7865/ or 127.0.0.1:7865 or https://0a1b2c3d4e5f0a1b2.gradio.live`\n",
    "\n",
    "Clique na ligação `https://0a1b2c3d4e5f0a1b2.gradio.live` na célula e abra-a num novo separador, mantendo esta página aberta no seu próprio separador.\n",
    "\n",
    "No novo separador gerar todas as imagens que desejar.       \n",
    "O Foooocus é um projeto incrível, capaz de gerar imagens verdadeiramente fantásticas.\n",
    "\n",
    "Mais informações sobre a interface e a funcionalidade podem ser encontradas em:       \n",
    "https://github.com/lllyasviel/Fooocus/discussions/117\n",
    "\n",
    "---\n",
    "\n",
    "Quando terminar de gerar as imagens, clique no ícone de stop (⏹︎) na célula acima e, em seguida, execute a célula abaixo."
   ]
  },
  {
   "cell_type": "code",
   "execution_count": null,
   "metadata": {
    "id": "2xNQkqqVJFY8"
   },
   "outputs": [],
   "source": [
    "!cd /content/Fooocus/outputs && tar --exclude='./archive.tar.gz' -czvf archive.tar.gz ."
   ]
  },
  {
   "cell_type": "markdown",
   "metadata": {
    "id": "6Xn2IfJGKgiZ"
   },
   "source": [
    "Vá a /content/Fooocus/outputs e transfira o ficheiro com o nome `archive.tar.gz`        \n",
    "clicando no ícone ⋮ e escolhendo \"Download\" no menu pop-up."
   ]
  },
  {
   "cell_type": "markdown",
   "metadata": {
    "id": "84lBEqhUVzcs"
   },
   "source": [
    "Depois de tudo ter sido descarregado, clique no menu \"Runtime\" e seleccione \"Disconnect and delete runtime\"       \n",
    "Pode fechar esta página em segurança."
   ]
  }
 ],
 "metadata": {
  "accelerator": "GPU",
  "colab": {
   "gpuType": "T4",
   "provenance": []
  },
  "kernelspec": {
   "display_name": "Python 3 (ipykernel)",
   "language": "python",
   "name": "python3"
  },
  "language_info": {
   "codemirror_mode": {
    "name": "ipython",
    "version": 3
   },
   "file_extension": ".py",
   "mimetype": "text/x-python",
   "name": "python",
   "nbconvert_exporter": "python",
   "pygments_lexer": "ipython3",
   "version": "3.10.11"
  }
 },
 "nbformat": 4,
 "nbformat_minor": 4
}
